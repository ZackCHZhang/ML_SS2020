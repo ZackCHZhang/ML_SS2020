{
 "cells": [
  {
   "cell_type": "markdown",
   "metadata": {},
   "source": [
    "# Assignment 2: Naive Bayes and Text Classification\n",
    "\n",
    "Only use the already imported library `numpy`. Make sure that the `spamham.txt` dataset is in the same directory as the notebook.\n",
    "\n",
    "List your team members (name and immatriculation number) in the following cell:"
   ]
  },
  {
   "cell_type": "markdown",
   "metadata": {},
   "source": [
    "Ciheng Zhang, Huipanjun Tian,Gang yu"
   ]
  },
  {
   "cell_type": "code",
   "execution_count": 1,
   "metadata": {},
   "outputs": [
    {
     "name": "stdout",
     "output_type": "stream",
     "text": [
      "Sample:\n",
      "ham: ['go', 'until', 'jurong', 'point', 'crazy', 'available', 'only', 'in', 'bugis', 'n', 'great', 'world', 'la', 'e', 'buffet', 'cine', 'there', 'got', 'amore', 'wat']\n",
      "spam: ['free', 'entry', 'in', '2', 'a', 'wkly', 'comp', 'to', 'win', 'fa', 'cup', 'final', 'tkts', '21st', 'may', '2005', 'text', 'fa', 'to', '87121', 'to', 'receive', 'entry', 'questionstd', 'txt', 'ratetcs', 'apply', '08452810075over18s']\n"
     ]
    }
   ],
   "source": [
    "# Load required packages and dataset. Do not modify.\n",
    "import numpy as np\n",
    "\n",
    "\n",
    "def load_spamham_dataset():\n",
    "    import string\n",
    "    \n",
    "    with open('spamham.txt', mode='r', encoding='utf-8') as f:\n",
    "        rows = [l.strip().split('\\t')[:2] for l in f]\n",
    "    \n",
    "    y, X = zip(*rows)\n",
    "    X =[x.translate(str.maketrans('', '', string.punctuation)).lower().split() for x in X]\n",
    "    \n",
    "    return X, y\n",
    "    \n",
    "\n",
    "X, y = load_spamham_dataset()\n",
    "\n",
    "print('Sample:')\n",
    "print(f'{y[0]}: {X[0]}')\n",
    "print(f'{y[2]}: {X[2]}')"
   ]
  },
  {
   "cell_type": "markdown",
   "metadata": {},
   "source": [
    "## Task 2: Spam Classification with Naive Bayes\n",
    "\n",
    "Check out the description of the dataset at [https://archive.ics.uci.edu/ml/datasets/SMS+Spam+Collection](https://archive.ics.uci.edu/ml/datasets/SMS+Spam+Collection).\n",
    "\n",
    "Implement a Naive Bayes classifier with Laplace smoothing to detect whether a text message is spam or ham (not spam).\n",
    "\n",
    "A text message is represented by a list of string tokens as shown above.\n",
    "The classification target is binary and the two possible labels are the strings `'spam'` and `'ham'`.\n",
    "\n",
    "Fill out the methods in `NaiveBayesSpamClassifier` to train (`fit`) and predict (`predict`). Feel free to introduce new fields and methods based on your needs, but the methods `fit` and `predict` are required and their interface should not be changed.\n",
    "\n",
    "Hint: Try to map the text messages to word frequency vectors by counting how often each word occurs in a message."
   ]
  },
  {
   "cell_type": "code",
   "execution_count": 2,
   "metadata": {},
   "outputs": [],
   "source": [
    "# Implement your solution here.\n",
    "\n",
    "\n",
    "class NaiveBayesSpamClassifier(object):\n",
    "    def __init__(self):\n",
    "        self.priors = {}\n",
    "        self.hamLikehoods = {}\n",
    "        self.spamLikehoods = {}\n",
    "        self.word_total = {}\n",
    "        self.ham_total=0\n",
    "        self.spam_total=0\n",
    "\n",
    "    def fit(self, X, y):\n",
    "        \"\"\"\n",
    "        X is a list of `n` text messages. Each text message is a list of strings with at least length one.\n",
    "        y is a list of `n` labels either the string 'spam' or the string 'ham'.\n",
    "        \"\"\"\n",
    "        ham_word_cnt = {}\n",
    "        spam_word_cnt = {}\n",
    "        ham_cnt = 0.0\n",
    "        spam_cnt = 0.0\n",
    "\n",
    "        for i in range(0, len(y)):\n",
    "            if y[i] == \"ham\":\n",
    "                ham_cnt += 1\n",
    "                for j in X[i]:\n",
    "                    if j not in self.word_total:\n",
    "                        ham_word_cnt[j] = 1\n",
    "                        spam_word_cnt[j] = 1\n",
    "                        self.word_total[j] = 1\n",
    "                    ham_word_cnt[j] += 1\n",
    "                    self.ham_total += 1\n",
    "            if y[i] == \"spam\":\n",
    "                spam_cnt += 1\n",
    "                for j in X[i]:\n",
    "                    if j not in self.word_total:\n",
    "                        spam_word_cnt[j] = 1\n",
    "                        ham_word_cnt[j] = 1\n",
    "                        self.word_total[j] = 1\n",
    "                    spam_word_cnt[j] += 1\n",
    "                    self.spam_total += 1\n",
    "\n",
    "        self.priors[\"ham\"] = ham_cnt/len(y)\n",
    "        self.priors[\"spam\"] = spam_cnt/len(y)\n",
    "\n",
    "        for label in ham_word_cnt:\n",
    "            self.hamLikehoods[label] = (ham_word_cnt[label]+1)/(self.ham_total+1)\n",
    "        for label in spam_word_cnt:\n",
    "            self.spamLikehoods[label] = (spam_word_cnt[label]+1)/(self.spam_total+1)\n",
    "\n",
    "\n",
    "    def predict(self, X):\n",
    "        \"\"\"\n",
    "        X is a list of `n` text messages. Each text message is a list of strings with at least length one.\n",
    "        The method returns a list of `n` strings, i.e. classification labels ('spam' or 'ham').\n",
    "        \"\"\"\n",
    "        spamResult = self.priors[\"spam\"]\n",
    "        hamResult = self.priors[\"ham\"]\n",
    "\n",
    "        result = [0 for i in range(len(X))]\n",
    "        for i in range(len(X)):\n",
    "            for w in self.word_total:\n",
    "                if w in X[i]:\n",
    "                    spamResult *= self.spamLikehoods[w]\n",
    "                    hamResult *= self.hamLikehoods[w]\n",
    "            result[i] = 'ham' if spamResult < hamResult else 'spam'\n",
    "            spamResult = self.priors[\"spam\"]\n",
    "            hamResult = self.priors[\"ham\"]\n",
    "     \n",
    "        return result\n"
   ]
  },
  {
   "cell_type": "code",
   "execution_count": 3,
   "metadata": {},
   "outputs": [
    {
     "data": {
      "image/png": "[encoded data removed]",
      "text/plain": [
       "<Figure size 432x288 with 1 Axes>"
      ]
     },
     "metadata": {
      "needs_background": "light"
     },
     "output_type": "display_data"
    },
    {
     "data": {
      "image/png": "[encoded data removed]",
      "text/plain": [
       "<Figure size 432x288 with 1 Axes>"
      ]
     },
     "metadata": {
      "needs_background": "light"
     },
     "output_type": "display_data"
    }
   ],
   "source": [
    "# The following code will evaluate your classifier.\n",
    "class HamClassifier(object):\n",
    "    \"\"\"\n",
    "    This classifier is a primitive baseline, which just predicts the most common class each time.\n",
    "    Naive Bayes should definitely beat this.\n",
    "    \"\"\"\n",
    "    def fit(self, X, y): pass\n",
    "    def predict(self, X): return len(X)*['ham']\n",
    "\n",
    "    \n",
    "def train_evaluate(classifier, X, y):\n",
    "    from sklearn.metrics import confusion_matrix\n",
    "    from sklearn.model_selection import train_test_split\n",
    "    \n",
    "    # Apply train-test split.\n",
    "    X_train, X_test, y_train, y_test = train_test_split(X, y, test_size=0.3, random_state=2020)\n",
    "    # Inititialize and train classifier.\n",
    "    classifier.fit(X_train, y_train)\n",
    "    # Evaluate classifier on test data.\n",
    "    yhat_test = classifier.predict(X_test)\n",
    "    cmatrix = confusion_matrix(y_test, yhat_test, labels=['ham', 'spam'])\n",
    "    \n",
    "    return cmatrix\n",
    "\n",
    "\n",
    "def plot_confusion_matrix(cmatrix, classifier_name):\n",
    "    import matplotlib.pyplot as plt\n",
    "    \n",
    "    fig, ax = plt.subplots(1, 1)\n",
    "    ax.matshow(cmatrix, cmap='Greens')\n",
    "    for x in (0, 1):\n",
    "        for y in (0, 1):\n",
    "            ax.text(x, y, cmatrix[y, x])\n",
    "    ax.set_xlabel('predicted label')\n",
    "    ax.set_ylabel('true label')\n",
    "    ax.set_xticklabels(['', 'ham', 'spam'])\n",
    "    ax.set_yticklabels(['', 'ham', 'spam'])\n",
    "    ax.set_title(classifier_name)\n",
    "\n",
    "    \n",
    "    \n",
    "ham_classifier = HamClassifier()\n",
    "your_classifier = NaiveBayesSpamClassifier()\n",
    "ham_cmatrix = train_evaluate(ham_classifier, X, y)\n",
    "your_cmatrix = train_evaluate(your_classifier, X, y)\n",
    "\n",
    "plot_confusion_matrix(ham_cmatrix, 'HamClassifier')\n",
    "plot_confusion_matrix(your_cmatrix, 'NaiveBayesSpamClassifier')"
   ]
  },
  {
   "cell_type": "code",
   "execution_count": null,
   "metadata": {},
   "outputs": [],
   "source": []
  }
 ],
 "metadata": {
  "kernelspec": {
   "display_name": "Python 3.7.7 64-bit",
   "language": "python",
   "name": "python37764bit903c3625454846538500c0d0a60f6f62"
  },
  "language_info": {
   "codemirror_mode": {
    "name": "ipython",
    "version": 3
   },
   "file_extension": ".py",
   "mimetype": "text/x-python",
   "name": "python",
   "nbconvert_exporter": "python",
   "pygments_lexer": "ipython3",
   "version": "3.7.7"
  }
 },
 "nbformat": 4,
 "nbformat_minor": 1
}
