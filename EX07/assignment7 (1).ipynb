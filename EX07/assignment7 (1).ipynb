{
 "cells": [
  {
   "cell_type": "markdown",
   "metadata": {},
   "source": [
    "# Assignment 7: Bagging and Boosting\n",
    "\n",
    "Only use the already imported library `numpy`, `matplotlib` and the Python standard library. For the evaluation you may also use scikit-learn (`sklearn`). Make sure that the dataset `titanic.csv` is in the same directory as the notebook.\n",
    "\n",
    "List your team members (name and immatriculation number) and indicate whether you are a B.Sc. Data Science or other group in the following cell:"
   ]
  },
  {
   "cell_type": "markdown",
   "metadata": {},
   "source": [
    "- *Your names here*"
   ]
  },
  {
   "cell_type": "code",
   "execution_count": 14,
   "metadata": {},
   "outputs": [
    {
     "name": "stdout",
     "output_type": "stream",
     "text": [
      "[ 0.   20.    7.05  0.    0.    1.    0.    0.    0.    0.    1.    1.\n",
      "  0.    0.    1.  ]\n",
      "(141, 15)\n"
     ]
    }
   ],
   "source": [
    "# You are allowed to use the numpy package and the DecisionTreeClassifier.\n",
    "import matplotlib.pyplot as plt\n",
    "import numpy as np\n",
    "from sklearn.tree import DecisionTreeClassifier\n",
    "\n",
    "\n",
    "def load_dataset(path):\n",
    "    import pandas as pd\n",
    "    from sklearn.model_selection import train_test_split\n",
    "\n",
    "    df = pd.read_csv('titanic.csv')\n",
    "    # The feature engineering mostly follows the notebook by Manav Segal: https://www.kaggle.com/startupsci/titanic-data-science-solutions\n",
    "    # From the Name attribute we can extract titles, which gives insight about the social status/age/gender of the passenger.\n",
    "    df['Title'] = df['Name'].str.extract(' ([a-zA-Z]+)\\.', expand=False)\n",
    "    df['Title'] = df['Title'].replace(['Lady', 'Countess', 'Capt', 'Col', 'Don', 'Dr', 'Major', 'Rev', 'Sir', 'Jonkheer', 'Dona'], 'Rare')\n",
    "    df['Title'] = df['Title'].replace(['Mlle', 'Ms'], 'Miss')\n",
    "    df['Title'] = df['Title'].replace('Mme', 'Mrs')\n",
    "    # We map the Title attribute to a one-hot encoding.\n",
    "    df = df.join(pd.get_dummies(df['Title'], prefix='Title'))\n",
    "\n",
    "    # We map the Sex attribute to a numeric representation.\n",
    "    df['Sex'] = df['Sex'].map({'female': 1, 'male': 0}).astype(int)\n",
    "\n",
    "    # We one-hot encode Pclass.\n",
    "    df = df.join(pd.get_dummies(df['Pclass'], prefix='Pclass'))\n",
    "\n",
    "    # Based on the number of sibling-spouses in SibSp and parents-childern in Parch, \n",
    "    # we can determine whether a passenger was on board alone.\n",
    "    df['IsAlone'] = ((df['SibSp'] + df['Parch'] + 1) == 1).astype(int)\n",
    "\n",
    "    # We remove all attributes that do not seem relevant to the prediction, or are already encoded in another attribute.\n",
    "    df = df.drop(['PassengerId', 'Name', 'Title', 'Ticket', 'Cabin', 'Parch', 'SibSp'], axis=1)\n",
    "\n",
    "    # For remaining features, we have to separate train and test, \n",
    "    # as we will impute missing data based on statistics in the training data.\n",
    "    df_train, df_test = train_test_split(df, test_size=0.2, random_state=2020)\n",
    "    # For Embarked, we set all missing values to the most frequent port and then one-hot encode the attribute.\n",
    "    def impute_embarked():    \n",
    "        freq_port = df_train['Embarked'].dropna().mode()[0]\n",
    "        output = []\n",
    "        for df in (df_train, df_test):\n",
    "            df = df.join(pd.get_dummies(df['Embarked'].fillna(freq_port), prefix='Embarked'))\n",
    "            df = df.drop('Embarked', axis=1)\n",
    "            output.append(df)\n",
    "        return output\n",
    "\n",
    "    df_train, df_test = impute_embarked()\n",
    "\n",
    "    # For Age, we set missing values to the median dependent on the pair of Sex and Pclass.\n",
    "    guess_ages = np.zeros((2, 3))\n",
    "    for df in (df_train, df_test):\n",
    "        for i in range(2):\n",
    "            for j in range(3):\n",
    "                guess_ages[i, j] = df[(df['Sex'] == i) & (df['Pclass'] == j+1)]['Age'].dropna().median()\n",
    "        for i in range(2):\n",
    "            for j in range(3):\n",
    "                df.loc[(df['Age'].isnull()) & (df['Sex'] == i) & (df['Pclass'] == j+1), 'Age'] = guess_ages[i, j]\n",
    "        df['Age'] = df['Age'].astype(int)\n",
    "\n",
    "    df_train = df_train.drop(['Pclass'], axis=1)\n",
    "    df_test = df_test.drop(['Pclass'], axis=1)\n",
    "\n",
    "    X_train = df_train.values[:, 1:]\n",
    "    X_test = df_test.values[:, 1:]\n",
    "    y_train = df_train.values[:, 0]\n",
    "    y_test = df_test.values[:, 0]\n",
    "    \n",
    "    return X_train, X_test, y_train, y_test\n",
    "    \n",
    "X_train, X_test, y_train, y_test = load_dataset('titanic.csv')\n",
    "print(X_train[0])\n",
    "print(X_train[int(1+0.2*(2-1)*X_train.shape[0]):int(0.4*1*X_train.shape[0]),:].shape)"
   ]
  },
  {
   "cell_type": "markdown",
   "metadata": {},
   "source": [
    "The Titanic dataset and a description can be found at [Kaggle](https://www.kaggle.com/c/titanic/data). The feature engineering mostly follows the work by [Manav Segal](https://www.kaggle.com/startupsci/titanic-data-science-solutions). \n",
    "\n",
    "The prepared dataset contains the following attributes:\n",
    "- Sex: binary (0 = Male, 1 = Female)\n",
    "- Age: integer\n",
    "- Fare: float\n",
    "- Title_{Master, Miss, Mr, Mrs, Rare}: title of passenger (extracted from name), binary, one-hot encoding of categorical variable Title\n",
    "- Pclass_{1, 2, 3}: ticket class corresponds to socio-economic status (1 = upper class, 2 = middle class, 3 = lower class), binary, one-hot encoding of categorical variable Pclass\n",
    "- IsAlone: whether the passenger has no siblings/spouses/parents/children on board, binary\n",
    "- Embarked_{C, Q, S}: port at which passenger embarked (C = Cherbourg, Q = Queenstown, S = Southampton), binary, one-hot encoding of categorical variable Embarked\n",
    "\n",
    "The classification target is:\n",
    "- Survived: binary\n",
    "\n",
    "Data is split into train-test with a 80-20 ratio yielding 712 training and 179 test samples. Train and test data is stored in the variables `(X_train, y_train)` and `(X_test, y_test)` respectively."
   ]
  },
  {
   "cell_type": "markdown",
   "metadata": {},
   "source": [
    "## Task 1: Random Forest\n",
    "\n",
    "In this task, you will implement a random forest classifier using the scikit-learn implementation of the decision tree. \n",
    "\n",
    "Use bootstrap sampling and sample 20% of the original data set for each tree. Randomly select 6 attributes/columns for each trained tree. The prediction of each tree should be weighted equally in the majority vote. Use the already imported class `DecisionTreeClassifier` for your decision trees. You can find the decision tree documentation [here](https://scikit-learn.org/stable/modules/generated/sklearn.tree.DecisionTreeClassifier.html). You may use either the default parameters or experiment with different settings.\n",
    "\n",
    "You will evaluate your model on the test data using scikit-learn with the methods shown in the lecture ([precision, recall, F1-score](https://scikit-learn.org/stable/modules/generated/sklearn.metrics.precision_recall_fscore_support.html#sklearn.metrics.precision_recall_fscore_support), [confusion matrices](https://scikit-learn.org/stable/modules/generated/sklearn.metrics.confusion_matrix.html?highlight=confusion%20matrix#sklearn.metrics.confusion_matrix), ...). Try out different number of trees and compare the performance w.r.t. this parameter. Feel free to import any functions you need from scikit-learn for this purpose. \n"
   ]
  },
  {
   "cell_type": "code",
   "execution_count": 15,
   "metadata": {},
   "outputs": [],
   "source": [
    "class RandomForestClassifier(object):\n",
    "    def __init__(self, number_of_trees):\n",
    "        self.number_of_trees = number_of_trees\n",
    "        self.ans=[]\n",
    "        self.decisionTrees=[]\n",
    "        for i in range(0,self.number_of_trees):\n",
    "            self.decisionTrees.append(DecisionTreeClassifier(max_features=5,random_state=1))\n",
    "        \n",
    "    def fit(self, X, y):\n",
    "#         不懂咋给每个树分数据，每个数随机百分之20还是均等分5个\n",
    "        print(X.shape)\n",
    "        # Implement your training here.\n",
    "        it=int(X.shape[0]*0.2)\n",
    "        for i in range(0,5):\n",
    "#             print(self.decisionTrees[i])\n",
    "            self.decisionTrees[i]=self.decisionTrees[i].fit(X=X[it*i:it*(i+1),:],y=y[it*i:it*(i+1)])\n",
    "        \n",
    "    \n",
    "    def predict(self, X):\n",
    "        # Implement your prediction here.\n",
    "        result=[]\n",
    "        for i in range (0,self.number_of_trees):\n",
    "            result.append(self.decisionTrees[i].predict(X))\n",
    "        for i in range (0,X.shape[0]):\n",
    "            count0=0\n",
    "            count1=0\n",
    "            for j in range(0,self.number_of_trees):\n",
    "                if result[j][i]==0:\n",
    "                    count0=count0+1\n",
    "                else:\n",
    "                    count1=count1+1\n",
    "            if count0>count1:\n",
    "                self.ans.append(0)\n",
    "            else:\n",
    "                self.ans.append(1)\n",
    "        return self.ans"
   ]
  },
  {
   "cell_type": "code",
   "execution_count": 16,
   "metadata": {},
   "outputs": [
    {
     "name": "stdout",
     "output_type": "stream",
     "text": [
      "(712, 15)\n",
      "Precision: [0.83809524 0.72972973]\n",
      "Recall: [0.81481481 0.76056338]\n",
      "F1-score: [0.82629108 0.74482759]\n"
     ]
    },
    {
     "data": {
      "image/png": "[encoded data removed]",
      "text/plain": [
       "<Figure size 432x288 with 1 Axes>"
      ]
     },
     "metadata": {
      "needs_background": "light"
     },
     "output_type": "display_data"
    }
   ],
   "source": [
    "# Implement your training and evaluation here.\n",
    "def plot_confusion_matrix(cmatrix, classifier_name):\n",
    "    import matplotlib.pyplot as plt\n",
    "    \n",
    "    fig, ax = plt.subplots(1, 1)\n",
    "    ax.matshow(cmatrix, cmap='Greens')\n",
    "    for x in (0, 1):\n",
    "        for y in (0, 1):\n",
    "            ax.text(x, y, cmatrix[y, x])\n",
    "    ax.set_xlabel('predicted label')\n",
    "    ax.set_ylabel('true label')\n",
    "    ax.set_xticklabels(['', 'Survived', 'NotSurvived'])\n",
    "    ax.set_yticklabels(['', 'Survived', 'NotSurvived'])\n",
    "    ax.set_title(classifier_name)\n",
    "    \n",
    "    \n",
    "crf=RandomForestClassifier(5)\n",
    "crf.fit(X_train,y_train)\n",
    "ans=crf.predict(X_test)\n",
    "import sklearn \n",
    "prec,rec,f1,_=sklearn.metrics.precision_recall_fscore_support(ans,y_test)\n",
    "cm=sklearn.metrics.confusion_matrix(ans,y_test)\n",
    "print('Precision:', prec)\n",
    "print('Recall:', rec)\n",
    "print('F1-score:', f1)\n",
    "\n",
    "plot_confusion_matrix(cm,'RandomForestClassifier')"
   ]
  },
  {
   "cell_type": "markdown",
   "metadata": {},
   "source": [
    "## Task 2: Interpreting Random Forests\n",
    "\n",
    "Implement the mean decrease of accuracy for the [sklearn.ensemble.RandomForestClassifier](https://scikit-learn.org/stable/modules/generated/sklearn.ensemble.RandomForestClassifier.html) `forest` to analyse learned attribute importances. Use the test set `X_test` and `y_test` as out-of-bag-samples. Permute the values of the assessed attribute by randomly shuffling the corresponding column. Plot the results to compare the importance of each feature. Discuss your results (are any importance values surprising, do the results make sense in the context of the task, ...).\n",
    "\n",
    "Note: We have already trained the classifier and stored it in the variable `forest`. You only need to implement MDA and the plots for your results."
   ]
  },
  {
   "cell_type": "code",
   "execution_count": 17,
   "metadata": {},
   "outputs": [
    {
     "name": "stdout",
     "output_type": "stream",
     "text": [
      "Precision: [0.78070175 0.75384615]\n",
      "Recall: [0.84761905 0.66216216]\n",
      "F1-score: [0.81278539 0.70503597]\n"
     ]
    }
   ],
   "source": [
    "def create_forest():\n",
    "    import sklearn.ensemble\n",
    "    import sklearn.metrics\n",
    "    forest = sklearn.ensemble.RandomForestClassifier(8)\n",
    "    forest.fit(X_train, y_train)\n",
    "    prec, rec, f1, _ = sklearn.metrics.precision_recall_fscore_support(y_test, forest.predict(X_test))\n",
    "    print('Precision:', prec)\n",
    "    print('Recall:', rec)\n",
    "    print('F1-score:', f1)\n",
    "    return forest\n",
    "\n",
    "forest = create_forest()"
   ]
  },
  {
   "cell_type": "code",
   "execution_count": 18,
   "metadata": {},
   "outputs": [
    {
     "name": "stdout",
     "output_type": "stream",
     "text": [
      "0.770949720670391\n",
      "[[-2.173913043478266, 6], [-2.173913043478266, 9], [0.0, 1], [0.0, 7], [0.0, 8], [0.7246376811594124, 11], [0.7246376811594124, 14], [1.449275362318839, 0], [1.449275362318839, 4], [2.1739130434782514, 3], [2.1739130434782514, 13], [2.898550724637678, 2], [3.6231884057970905, 12], [7.246376811594196, 10], [8.695652173913034, 5]]\n",
      "[-2.173913043478266, 9]\n"
     ]
    },
    {
     "data": {
      "image/png": "[encoded data removed]",
      "text/plain": [
       "<Figure size 432x288 with 1 Axes>"
      ]
     },
     "metadata": {
      "needs_background": "light"
     },
     "output_type": "display_data"
    }
   ],
   "source": [
    "# Implement your solution here.\n",
    "acc=sklearn.metrics.accuracy_score(y_test,forest.predict(X_test))\n",
    "score=[]\n",
    "print(acc)\n",
    "for i in range(X_train.shape[1]):\n",
    "    X_t=X_test.copy()\n",
    "    np.random.shuffle(X_t[:,i])\n",
    "    i_acc=sklearn.metrics.accuracy_score(y_test,forest.predict(X_t))\n",
    "    score.append([100*(acc-i_acc)/acc,i])\n",
    "print (sorted(score))\n",
    "score=sorted(score)\n",
    "fig, ax = plt.subplots()\n",
    "\n",
    "# Example data\n",
    "print(score[1])\n",
    "for i in range(0,15):\n",
    "    a=score.pop()\n",
    "    ax.barh(a[1], a[0], align='center')\n",
    "# ax.set_yticks(y_pos)\n",
    "# ax.set_yticklabels(y_label)\n",
    "ax.invert_yaxis()  # labels read top-to-bottom\n",
    "ax.set_xlabel('100*(acc-i_acc)/acc,i')\n",
    "\n",
    "plt.show()\n",
    "    "
   ]
  },
  {
   "cell_type": "markdown",
   "metadata": {},
   "source": [
    "## Task 3: Discrete AdaBoost with Decision Stumps\n",
    " \n",
    "*For all students other than B.Sc. Data Science.*  \n",
    "\n",
    "In this task, you will implement the discrete AdaBoost algorithm using decision stumps as weak learners. Your training will run until either `n_learners` weak learners have been added or a perfect accuracy on the training data set is achieved. Use the function `initialize_decision_stumps` to create decision stumps, which you can train on your weighted data using `fit` and predict using `predict`. The decision stumps are instances of the class [sklearn.tree.DecisionTreeClassifier](https://scikit-learn.org/stable/modules/generated/sklearn.tree.DecisionTreeClassifier.html).\n",
    "\n",
    "In addition, you will evaluate your model on the test data (`X_test`, `y_test`) using scikit-learn with the methods shown in the lecture (precision, recall, F1-score, confusion matrices, ...). Feel free to import any functions you need from scikit-learn for this purpose."
   ]
  },
  {
   "cell_type": "code",
   "execution_count": 168,
   "metadata": {},
   "outputs": [],
   "source": [
    "def initialize_decision_stump():\n",
    "    stump = DecisionTreeClassifier(criterion='entropy', max_depth=1)\n",
    "    return stump\n",
    "\n",
    "\n",
    "class AdaBoostClassifier(object):\n",
    "    def __init__(self, n_learners):\n",
    "        self.n_learners = n_learners\n",
    "        self.stump=[]\n",
    "        self.w=0\n",
    "        self.theta=[]\n",
    "        for i in range(self.n_learners):\n",
    "            self.stump.append(initialize_decision_stump())\n",
    "        # Add any initialization you need here.\n",
    "    \n",
    "    def fit(self, X, y):\n",
    "        # Implement your solution here.\n",
    "        train_list=np.zeros(len(X))\n",
    "        self.w=np.ones(len(X))/len(X)\n",
    "        \n",
    "        for i in range(self.n_learners):\n",
    "            self.stump[i].fit(X,y,sample_weight=self.w)\n",
    "            pred_list=self.stump[i].predict(X)\n",
    "            \n",
    "            err_0=[int(x) for x in (pred_list!=y)]\n",
    "            err=np.dot(self.w,err_0)/sum(self.w)\n",
    "            \n",
    "            err_1=[1 if x==1 else -1 for x in err_0]\n",
    "            self.theta.append(np.log((1-err)/float(err)))\n",
    "            \n",
    "            self.w=np.multiply(self.w,np.exp([float(x)*self.theta[i] for x in err_0]))\n",
    "            \n",
    "        \n",
    "    \n",
    "    def predict(self, X, y):\n",
    "        # Implement your solution here.\n",
    "        result=0\n",
    "        for i in range(self.n_learners):\n",
    "#             print(2*self.stump[i].predict(X)-1)\n",
    "            result=result+(self.theta[i]*self.stump[i].predict(X))\n",
    "#         print(sklearn.metrics.accuracy_score(y,result))\n",
    "        result=[0 if x<np.max(result)/2 else 1 for x in result]    \n",
    "        return result\n",
    "            \n"
   ]
  },
  {
   "cell_type": "code",
   "execution_count": 177,
   "metadata": {},
   "outputs": [
    {
     "name": "stdout",
     "output_type": "stream",
     "text": [
      "Acc is 0.703911\n",
      "Precision: [0.83333333 0.6039604 ]\n",
      "Recall: [0.61904762 0.82432432]\n",
      "F1-score: [0.71038251 0.69714286]\n"
     ]
    }
   ],
   "source": [
    "# Implement your training and evaluation here. You may reuse the code from Task 1.\n",
    "Abc=AdaBoostClassifier(8)\n",
    "Abc.fit(X_train,y_train)\n",
    "ans0=Abc.predict(X_test,y_test)\n",
    "print(\"Acc is %f\"%sklearn.metrics.accuracy_score(y_test,ans0))\n",
    "prec, rec, f1, _ = sklearn.metrics.precision_recall_fscore_support(y_test, ans0)\n",
    "print('Precision:', prec)\n",
    "print('Recall:', rec)\n",
    "print('F1-score:', f1)\n",
    "\n",
    "\n"
   ]
  },
  {
   "cell_type": "code",
   "execution_count": null,
   "metadata": {},
   "outputs": [],
   "source": []
  }
 ],
 "metadata": {
  "kernelspec": {
   "display_name": "Python 3",
   "language": "python",
   "name": "python3"
  },
  "language_info": {
   "codemirror_mode": {
    "name": "ipython",
    "version": 3
   },
   "file_extension": ".py",
   "mimetype": "text/x-python",
   "name": "python",
   "nbconvert_exporter": "python",
   "pygments_lexer": "ipython3",
   "version": "3.6.10"
  }
 },
 "nbformat": 4,
 "nbformat_minor": 1
}
