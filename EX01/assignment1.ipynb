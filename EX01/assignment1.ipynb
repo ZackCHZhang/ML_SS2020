{
 "cells": [
  {
   "cell_type": "markdown",
   "metadata": {},
   "source": [
    "# Assignment 1: k-nearest neighbors\n",
    "\n",
    "Only use the already imported libraries `numpy` and `matplotlib.pyplot` for the assignment. Do not import any other library. "
   ]
  },
  {
   "cell_type": "code",
   "execution_count": 61,
   "metadata": {},
   "outputs": [],
   "source": [
    "# Load required packages and dataset. Do not modify.\n",
    "import matplotlib.pyplot as plt\n",
    "import numpy as np\n",
    "\n",
    "\n",
    "def load_iris_dataset():\n",
    "    from sklearn import datasets\n",
    "    iris = datasets.load_iris()\n",
    "    X = iris.data\n",
    "    y = iris.target\n",
    "    return X, y\n",
    "    \n",
    "X, y = load_iris_dataset()\n"
   ]
  },
  {
   "cell_type": "markdown",
   "metadata": {},
   "source": [
    "## Task 1: Visualization and Preprocessing\n",
    "\n",
    "1) Explain the content of the dataset in few words. What are the input features? What is the classification target? Check out: [https://en.wikipedia.org/wiki/Iris_flower_data_set](https://en.wikipedia.org/wiki/Iris_flower_data_set).\n"
   ]
  },
  {
   "cell_type": "markdown",
   "metadata": {},
   "source": [
    "#This dataset include 3 different flowers with four features Sepal langth,Sepal width,Petal lwngth,petal width."
   ]
  },
  {
   "cell_type": "markdown",
   "metadata": {},
   "source": [
    "2) Compute and print the following statistics about the dataset:\n",
    "  - Number of samples\n",
    "  - Number of samples per class\n",
    "  - Mean and standard deviation for each input feature\n"
   ]
  },
  {
   "cell_type": "code",
   "execution_count": 62,
   "metadata": {},
   "outputs": [
    {
     "name": "stdout",
     "output_type": "stream",
     "text": [
      "The size of the dataset is 150\n",
      "The Number of setosa is50\n",
      "The Number of versicolor is50\n",
      "The Number of virginica is50\n",
      "The mean of SL is 5.843333\n",
      "The mean of SW is 3.057333\n",
      "The mean of PL is 3.758000\n",
      "The mean of PW is 1.199333\n",
      "The std of SL is 0.825301\n",
      "The std of SW is 0.434411\n",
      "The std of PL is 1.759404\n",
      "The std of PW is 0.759693\n"
     ]
    }
   ],
   "source": [
    "# Implement your solution here.\n",
    "print(\"The size of the dataset is %d\"%len(X))\n",
    "setosa=versicolor=virginica=0\n",
    "for i in y:\n",
    "    if i==0:\n",
    "        setosa+=1\n",
    "    if i==1:\n",
    "        versicolor+=1\n",
    "    if i==2:\n",
    "        virginica+=1\n",
    "print(\"The Number of setosa is%d\"%setosa)\n",
    "print(\"The Number of versicolor is%d\"%versicolor)\n",
    "print(\"The Number of virginica is%d\"%virginica)\n",
    "\n",
    "\n",
    "meanSL=np.mean(X[:,0])\n",
    "meanSW=np.mean(X[:,1])\n",
    "meanPL=np.mean(X[:,2])\n",
    "meanPW=np.mean(X[:,3])\n",
    "\n",
    "stdSL=np.std(X[:,0])\n",
    "stdSW=np.std(X[:,1])\n",
    "stdPL=np.std(X[:,2])\n",
    "stdPW=np.std(X[:,3])\n",
    "\n",
    "print(\"The mean of SL is %f\"%meanSL)\n",
    "print(\"The mean of SW is %f\"%meanSW)\n",
    "print(\"The mean of PL is %f\"%meanPL)\n",
    "print(\"The mean of PW is %f\"%meanPW)\n",
    "\n",
    "print(\"The std of SL is %f\"%stdSL)\n",
    "print(\"The std of SW is %f\"%stdSW)\n",
    "print(\"The std of PL is %f\"%stdPL)\n",
    "print(\"The std of PW is %f\"%stdPW)"
   ]
  },
  {
   "cell_type": "markdown",
   "metadata": {},
   "source": [
    "3) Visualize the variables Sepal length and Petal length in a scatter plot (Sepal length on the x-axis, petal length on the y-axis). Color each point of the plot according to its class."
   ]
  },
  {
   "cell_type": "code",
   "execution_count": 63,
   "metadata": {},
   "outputs": [
    {
     "data": {
      "image/png": "[encoded data removed]",
      "text/plain": [
       "<Figure size 432x288 with 1 Axes>"
      ]
     },
     "metadata": {
      "needs_background": "light"
     },
     "output_type": "display_data"
    }
   ],
   "source": [
    "plt.scatter(X[:,0],X[:,2],c=y)\n",
    "plt.title('Visualize the variables SL und PL')\n",
    "plt.xlabel('Sepal Length')\n",
    "plt.ylabel('Petal Length')\n",
    "\n",
    "plt.show()"
   ]
  },
  {
   "cell_type": "markdown",
   "metadata": {},
   "source": [
    "4) Split the dataset randomly into training and test data. 70% of data should be used for training and 30% should be used for testing. Implement the function `train_test_split`. Do not modify the interface of the function."
   ]
  },
  {
   "cell_type": "code",
   "execution_count": 64,
   "metadata": {},
   "outputs": [],
   "source": [
    "def train_test_split(X, y):\n",
    "    \"\"\"\n",
    "    Returns X_train, X_test, y_train, y_test, \n",
    "        where X_train and X_test are the input features of the training and test set,\n",
    "        and y_train and y_test are the class labels of the training and test set.\n",
    "    \"\"\"\n",
    "    # Implement your solution here.\n",
    "    c=np.c_[X,y] \n",
    "    # print(c)\n",
    "    np.random.shuffle(c)\n",
    "    X1=c[:,0:4]\n",
    "    y1=c[:,4]\n",
    "    y1=y1.astype(int)\n",
    "    l=int(0.7*len(X))\n",
    "\n",
    "    return X1[0:l,:], X1[l:len(X),:], y1[0:l], y1[l:y.size]\n",
    "\n",
    "X_train, X_test, y_train, y_test = train_test_split(X, y)\n",
    "\n",
    "assert (X_train.shape[0] + X_test.shape[0]) == X.shape[0]\n",
    "assert (y_train.shape[0] + y_test.shape[0]) == y.shape[0]\n",
    "assert X_train.shape[1] == X_test.shape[1]\n",
    "\n"
   ]
  },
  {
   "cell_type": "markdown",
   "metadata": {},
   "source": [
    "5) kNN uses a distance measure to identify close neighbors. If the input features are not of the same scale, the distance is not as meaningful, which can negatively impact classification performance. Perform min-max scaling (i.e. scale the values of the input features in such a way that their range is from 0 to 1) on the training and test data. Remember that you should only use information from the training data to perform the scaling on both data sets."
   ]
  },
  {
   "cell_type": "code",
   "execution_count": 65,
   "metadata": {},
   "outputs": [],
   "source": [
    "# Implement your solution here\n",
    "N_X_train=X_train\n",
    "N_X_test=X_test\n",
    "vmin=X_train.min(axis=0)\n",
    "vmax=X_train.max(axis=0)\n",
    "for i in range(4):\n",
    "    N_X_train[:,i] = (X_train[:,i] - vmin[i]) / (vmax[i] - vmin[i])\n",
    "\n",
    "for i in range(4):\n",
    "    N_X_test[:,i] = (X_test[:,i] - vmin[i]) / (vmax[i] - vmin[i])"
   ]
  },
  {
   "cell_type": "markdown",
   "metadata": {},
   "source": [
    "## Task 2: k-nearest neighbors\n",
    "\n",
    "**For B.Sc. Data Science:**  \n",
    "Implement the kNN algorithm with uniform weighting and arbitrary `k`. Fill out the `predict` method of class `KNearestNeighborsClassifier`. \n",
    "\n",
    "Use Euclidean distance to determine the nearest neighbors.\n",
    "You can ignore the optional parameter `distance_metric`, which is provided as a field in the kNN class.\n",
    "\n",
    "**For everyone else:**  \n",
    "Implement the kNN algorithm with distance-based weighting and arbitrary `k`.\n",
    "Fill out the `predict` method of class `KNearestNeighborsClassifier`.\n",
    "\n",
    "The parameter `distance_metric` will either contain the string `uniform` or a function. If the value is `uniform`, the classifier should use the Euclidean distance for determining nearest neighbors and uniform weighting. If the value is a function, the classifier should use the function as distance metric and perform distance-weighted classification. An example distance metric is provided with `euclidean_distance`."
   ]
  },
  {
   "cell_type": "code",
   "execution_count": 66,
   "metadata": {},
   "outputs": [],
   "source": [
    "class KNearestNeighbors(object):\n",
    "    def __init__(self, k, distance_metric='uniform'):\n",
    "        self.k = k\n",
    "        self.distance_metric = distance_metric\n",
    "        \n",
    "    def fit(self, X, y):\n",
    "        \"\"\"\n",
    "        This functions saves the training data to be used during the prediction.\n",
    "        \"\"\"\n",
    "        self.X = X\n",
    "        self.y = y\n",
    "    \n",
    "    def predict(self, X):\n",
    "        \"\"\"\n",
    "        Returns a vector of shape (n,) if X has shape (n,d), \n",
    "        where n is the number of samples and d is the number of features.\n",
    "        \"\"\"\n",
    "        # Implement your solution here.\n",
    "        f0=f1=f2=0.0\n",
    "        cnt0=cnt1=cnt2=0\n",
    "        for i in range(self.y.size):\n",
    "            if self.y[i]==0:\n",
    "                f0+=1\n",
    "            if self.y[i]==1:\n",
    "                f1+=1\n",
    "            if self.y[i]==2:\n",
    "                f2+=1\n",
    "        f0=f0/self.y.size\n",
    "        f1=f1/self.y.size\n",
    "        f2=f2/self.y.size\n",
    "\n",
    "        result=np.zeros(shape=(X.shape[0],2))\n",
    "        \n",
    "        for i in range(X.shape[0]):\n",
    "            array_dist=np.zeros(shape=(self.X.shape[0],2))\n",
    "            for j in range(self.X.shape[0]):\n",
    "\n",
    "                    dis= euclidean_distance(X[i,:],self.X[j,:])\n",
    "\n",
    "                    array_dist[j,:]=dis,self.y[j]\n",
    "            array_dist=array_dist[array_dist[:,0].argsort()]\n",
    "\n",
    "            array_dist=array_dist[0:self.k]\n",
    "\n",
    "            for k in range(len(array_dist)):\n",
    "                if array_dist[k,1]==0.0:\n",
    "                    cnt0+=1\n",
    "                if array_dist[k,1]==1.0:\n",
    "                    cnt1+=1\n",
    "                if array_dist[k,1]==2.0:\n",
    "                    cnt2+=1\n",
    "            result[i,0]=i\n",
    "            listWeight=[cnt0/f0,cnt1/f1,cnt2/f2]\n",
    "\n",
    "            result[i,1]=listWeight.index(max(listWeight))\n",
    "            cnt0=0\n",
    "            cnt1=0\n",
    "            cnt2=0\n",
    "        return result\n",
    "\n",
    "    \n",
    "def euclidean_distance(x1, x2):\n",
    "    \"\"\"\n",
    "    Given vectors x1 and x2 with shape (n,) returns distance between vectors as float.\n",
    "    \"\"\"\n",
    "    return np.sqrt(np.sum((x1 - x2)*(x1 - x2)))"
   ]
  },
  {
   "cell_type": "markdown",
   "metadata": {},
   "source": [
    "## Task 3: Evaluation\n",
    "\n",
    "1) Implement functions to compute precision, recall and F1-score. `y_pred` and `y_true` are the vectors of predicted and true class labels respectively with shape `(n,)`, where `n` is the number of samples. Each function should return a float containing the corresponding score."
   ]
  },
  {
   "cell_type": "code",
   "execution_count": 67,
   "metadata": {},
   "outputs": [],
   "source": [
    "def precision(y_pred, y_true):\n",
    "    # Implement your solution here.\n",
    "    a11=a22=a33=0\n",
    "\n",
    "    totalOne_true=np.sum(y_true[:,1]==0)   \n",
    "    totalTwo_true=np.sum(y_true[:,1]==1)\n",
    "    totalThree_true=np.sum(y_true[:,1]==2)\n",
    "\n",
    "    for i in range(len(y_pred)):\n",
    "        if y_pred[i,1]==y_true[i,1]:\n",
    "            if y_pred[i,1]==0:\n",
    "                a11+=1\n",
    "            if y_pred[i,1]==1:\n",
    "                a22+=1\n",
    "            if y_pred[i,1]==2:\n",
    "                a33+=1\n",
    "    P1=float(a11)/float(totalOne_true)\n",
    "    P2=float(a22)/float(totalTwo_true)\n",
    "    P3=float(a33)/float(totalThree_true)\n",
    "    return P1,P2,P3\n",
    "\n",
    "def recall(y_pred, y_true):\n",
    "    # Implement your solution here.\n",
    "    a11=a22=a33=0\n",
    "    \n",
    "    totalOne_pred=np.sum(y_pred[:,1]==0)\n",
    "    totalTwo_pred=np.sum(y_pred[:,1]==1)\n",
    "    totalThree_pred=np.sum(y_pred[:,1]==2)\n",
    "\n",
    "    for i in range(len(y_pred)):\n",
    "        if y_pred[i,1]==y_true[i,1]:\n",
    "            if y_pred[i,1]==0:\n",
    "                a11+=1\n",
    "            if y_pred[i,1]==1:\n",
    "                a22+=1\n",
    "            if y_pred[i,1]==2:\n",
    "                a33+=1\n",
    "    R1=float(a11)/float(totalOne_pred)\n",
    "    R2=float(a22)/float(totalTwo_pred)\n",
    "    R3=float(a33)/float(totalThree_pred)\n",
    "    return R1,R2,R3\n",
    "\n",
    "def f1score(y_pred, y_true):\n",
    "    # Implement your solution here.\n",
    "    \n",
    "    a11=a22=a33=0\n",
    "    \n",
    "    totalOne_pred=np.sum(y_pred[:,1]==0)\n",
    "    totalTwo_pred=np.sum(y_pred[:,1]==1)\n",
    "    totalThree_pred=np.sum(y_pred[:,1]==2)\n",
    "\n",
    "    totalOne_true=np.sum(y_true[:,1]==0)   \n",
    "    totalTwo_true=np.sum(y_true[:,1]==1)\n",
    "    totalThree_true=np.sum(y_true[:,1]==2)\n",
    "\n",
    "    for i in range(len(y_pred)):\n",
    "        if y_pred[i,1]==y_true[i,1]:\n",
    "            if y_pred[i,1]==0:\n",
    "                a11+=1\n",
    "            if y_pred[i,1]==1:\n",
    "                a22+=1\n",
    "            if y_pred[i,1]==2:\n",
    "                a33+=1\n",
    "    P1=float(a11)/float(totalOne_true)\n",
    "    P2=float(a22)/float(totalTwo_true)\n",
    "    P3=float(a33)/float(totalThree_true)\n",
    "    R1=float(a11)/float(totalOne_pred)\n",
    "    R2=float(a22)/float(totalTwo_pred)\n",
    "    R3=float(a33)/float(totalThree_pred)\n",
    "\n",
    "    F1=2*P1*R1/(P1+R1)\n",
    "    F2=2*P2*R2/(P2+R2)\n",
    "    F3=2*P3*R3/(P3+R3)\n",
    "    return F1,F2,F3\n",
    "\n",
    "def acc(y_pred, y_true):\n",
    "    cnt=0\n",
    "    for i in range(len(y_pred)):\n",
    "        if y_pred[i,1]==y_true[i,1]:\n",
    "            cnt+=1\n",
    "    return float(cnt)/float(len(y_pred)) \n"
   ]
  },
  {
   "cell_type": "markdown",
   "metadata": {},
   "source": [
    "2) Evaluate the performance of kNN with uniform weighting on the Iris dataset for `k=1,3,5`. Train each of the `3` classifiers on the training data from Task 1. Perform the predictions on both the training and test data. Then compute precision, recall, and F1-score for each model and for both training and test data. Print all scores per model. What do you observe?\n",
    "\n",
    "**For all students other than B.Sc. Data Science:** \n",
    "Evaluate the kNN classifier with Euclidean distance-weighting. Compare the performance to uniform-weighting. How does the performance change compared to uniform weighting for each `k`?"
   ]
  },
  {
   "cell_type": "code",
   "execution_count": 68,
   "metadata": {
    "scrolled": true
   },
   "outputs": [
    {
     "name": "stdout",
     "output_type": "stream",
     "text": [
      "(0.9555555555555556, 0.9333333333333333, 0.9111111111111111)\n",
      "((1.0, 0.8888888888888888, 1.0), (1.0, 0.8888888888888888, 0.9285714285714286), (1.0, 0.8888888888888888, 0.8571428571428571))\n",
      "((1.0, 1.0, 0.875), (1.0, 0.9411764705882353, 0.8666666666666667), (1.0, 0.8888888888888888, 0.8571428571428571))\n",
      "((1.0, 0.9411764705882353, 0.9333333333333333), (1.0, 0.9142857142857143, 0.896551724137931), (1.0, 0.8888888888888888, 0.8571428571428571))\n"
     ]
    }
   ],
   "source": [
    "y_true=np.zeros(shape=(X_test.shape[0],2))\n",
    "for i in range(y_test.size):\n",
    "    y_true[i,1]=y_test[i]\n",
    "    y_true[i,0]=i\n",
    "\n",
    "listResult1=[]\n",
    "listResult3=[]\n",
    "listResult5=[]\n",
    "\n",
    "knn3=KNearestNeighbors(3)\n",
    "knn5=KNearestNeighbors(5)\n",
    "knn1=KNearestNeighbors(1)\n",
    "\n",
    "knn1.fit(N_X_train,y_train)\n",
    "knn3.fit(N_X_train,y_train)\n",
    "knn5.fit(N_X_train,y_train)\n",
    "\n",
    "listResult1=knn1.predict(N_X_test)\n",
    "listResult3=knn3.predict(N_X_test)\n",
    "listResult5=knn5.predict(N_X_test)\n",
    "\n",
    "\n",
    "Precision1=precision(listResult1,y_true) \n",
    "Precision3=precision(listResult3,y_true)\n",
    "Precision5=precision(listResult5,y_true)\n",
    "\n",
    "Recall1=recall(listResult1,y_true)\n",
    "Recall3=recall(listResult3,y_true)\n",
    "Recall5=recall(listResult5,y_true)\n",
    "\n",
    "F11=f1score(listResult1,y_true)\n",
    "F13=f1score(listResult3,y_true)\n",
    "F15=f1score(listResult5,y_true)\n",
    "\n",
    "acc1=acc(listResult1,y_true)\n",
    "acc3=acc(listResult3,y_true)\n",
    "acc5=acc(listResult5,y_true)\n",
    "\n",
    "print(acc1,acc3,acc5)\n",
    "\n",
    "print(Precision1,Precision3,Precision5)\n",
    "print(Recall1,Recall3,Recall5)\n",
    "print(F11,F13,F15)"
   ]
  },
  {
   "cell_type": "markdown",
   "metadata": {},
   "source": [
    "==> when the kNN with k=1 has the best accuracy also the precision and recall. But it's overfitting. And the Recall, Precision and Accuracy of kNN with k =1 and k=5 is similar. Although the result its not so good like k=1. but its still good enough. "
   ]
  },
  {
   "cell_type": "markdown",
   "metadata": {},
   "source": [
    "3) Explain why kNN with `k=1` achieves perfect results on the training data. Why is it not the best model?"
   ]
  },
  {
   "cell_type": "markdown",
   "metadata": {},
   "source": [
    "==> Because when k=1 the modul is Overfitting, so the result is look like perfect. But it has bad performance on new data. Its not enough generalization."
   ]
  }
 ],
 "metadata": {
  "kernelspec": {
   "display_name": "Python 2",
   "language": "python",
   "name": "python2"
  },
  "language_info": {
   "codemirror_mode": {
    "name": "ipython",
    "version": 2
   },
   "file_extension": ".py",
   "mimetype": "text/x-python",
   "name": "python",
   "nbconvert_exporter": "python",
   "pygments_lexer": "ipython2",
   "version": "2.7.17"
  }
 },
 "nbformat": 4,
 "nbformat_minor": 1
}
